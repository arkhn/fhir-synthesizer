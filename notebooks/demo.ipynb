{
 "cells": [
  {
   "cell_type": "code",
   "execution_count": 1,
   "id": "0c3ffe64",
   "metadata": {},
   "outputs": [],
   "source": [
    "%reload_ext autoreload\n",
    "%autoreload 2"
   ]
  },
  {
   "cell_type": "code",
   "execution_count": 2,
   "id": "01febd13",
   "metadata": {},
   "outputs": [],
   "source": [
    "import os\n",
    "from glom import glom, Coalesce, delete, assign\n",
    "from synthetic_data import create_fake_data, hapi_to_json, json_to_var, DATA_PATH, OUTPUT_DATA_PATH\n",
    "import numpy as np\n",
    "import json"
   ]
  },
  {
   "cell_type": "code",
   "execution_count": 3,
   "id": "1b583563",
   "metadata": {},
   "outputs": [],
   "source": [
    "ALL_PAGES = False"
   ]
  },
  {
   "cell_type": "code",
   "execution_count": 4,
   "id": "15ff3ec6",
   "metadata": {},
   "outputs": [
    {
     "data": {
      "text/plain": [
       "['patients_actifs_all.json',\n",
       " 'sejours_actifs.json',\n",
       " 'consultations_specialisees_all.json',\n",
       " 'activités_planifiees_all.json',\n",
       " 'soins_planifies_all.json',\n",
       " 'activités_planifiees.json',\n",
       " 'hospitalisations.json',\n",
       " 'soins_planifies.json',\n",
       " 'sejours.json',\n",
       " 'vacances_all.json',\n",
       " 'sejours_all.json',\n",
       " 'sejours_actifs_all.json',\n",
       " 'vacs_hospit_sejours.json',\n",
       " 'vacances.json',\n",
       " 'vacs_hospit_sejours_all.json',\n",
       " 'hospitalisations_all.json',\n",
       " 'consultations_pedicure.json',\n",
       " 'consultations_pedicure_all.json',\n",
       " 'consultations_specialisees.json',\n",
       " 'patients_actifs.json']"
      ]
     },
     "execution_count": 4,
     "metadata": {},
     "output_type": "execute_result"
    }
   ],
   "source": [
    "hapi_to_json(all_pages=ALL_PAGES)\n",
    "os.listdir(DATA_PATH)"
   ]
  },
  {
   "cell_type": "code",
   "execution_count": 5,
   "id": "054e0040",
   "metadata": {},
   "outputs": [],
   "source": [
    "initial_data = json_to_var(all_pages=ALL_PAGES)"
   ]
  },
  {
   "cell_type": "code",
   "execution_count": 6,
   "id": "edc050dd",
   "metadata": {},
   "outputs": [
    {
     "data": {
      "text/plain": [
       "['fake_soins_planifies.json',\n",
       " 'fake_vacs_hospit_sejours.json',\n",
       " 'fake_sejours.json',\n",
       " 'fake_consultations_specialisees.json',\n",
       " 'fake_consultations_pedicure.json',\n",
       " 'fake_vacances.json',\n",
       " 'fake_hospitalisations.json',\n",
       " 'fake_activités_planifiees.json',\n",
       " 'fake_patients_actifs.json',\n",
       " 'fake_sejours_actifs.json']"
      ]
     },
     "execution_count": 6,
     "metadata": {},
     "output_type": "execute_result"
    }
   ],
   "source": [
    "create_fake_data(initial_data=initial_data)\n",
    "os.listdir(OUTPUT_DATA_PATH)"
   ]
  },
  {
   "cell_type": "code",
   "execution_count": null,
   "id": "8b3a74e3",
   "metadata": {},
   "outputs": [],
   "source": []
  }
 ],
 "metadata": {
  "kernelspec": {
   "display_name": "Python 3 (ipykernel)",
   "language": "python",
   "name": "python3"
  },
  "language_info": {
   "codemirror_mode": {
    "name": "ipython",
    "version": 3
   },
   "file_extension": ".py",
   "mimetype": "text/x-python",
   "name": "python",
   "nbconvert_exporter": "python",
   "pygments_lexer": "ipython3",
   "version": "3.9.6"
  }
 },
 "nbformat": 4,
 "nbformat_minor": 5
}
