{
 "cells": [
  {
   "cell_type": "code",
   "execution_count": 1,
   "id": "0c3ffe64",
   "metadata": {},
   "outputs": [],
   "source": [
    "%reload_ext autoreload\n",
    "%autoreload 2"
   ]
  },
  {
   "cell_type": "code",
   "execution_count": 2,
   "id": "01febd13",
   "metadata": {},
   "outputs": [],
   "source": [
    "import os\n",
    "from glom import glom, Coalesce\n",
    "from synthetic_data import hapi_to_json, json_to_var, DATA_PATH, get_all_values, SPECS_TO_DELETE, SPECS_TO_SAMPLE\n",
    "import numpy as np"
   ]
  },
  {
   "cell_type": "code",
   "execution_count": 3,
   "id": "1b583563",
   "metadata": {},
   "outputs": [],
   "source": [
    "ALL_PAGES = True"
   ]
  },
  {
   "cell_type": "code",
   "execution_count": 4,
   "id": "15ff3ec6",
   "metadata": {},
   "outputs": [
    {
     "data": {
      "text/plain": [
       "['patients_actifs_all.json',\n",
       " 'sejours_actifs.json',\n",
       " 'consultations_specialisees_all.json',\n",
       " 'activités_planifiees_all.json',\n",
       " 'soins_planifies_all.json',\n",
       " 'activités_planifiees.json',\n",
       " 'hospitalisations.json',\n",
       " 'soins_planifies.json',\n",
       " 'sejours.json',\n",
       " 'vacances_all.json',\n",
       " 'sejours_all.json',\n",
       " 'sejours_actifs_all.json',\n",
       " 'vacs_hospit_sejours.json',\n",
       " 'vacances.json',\n",
       " 'vacs_hospit_sejours_all.json',\n",
       " 'hospitalisations_all.json',\n",
       " 'consultations_pedicure.json',\n",
       " 'consultations_pedicure_all.json',\n",
       " 'consultations_specialisees.json',\n",
       " 'patients_actifs.json']"
      ]
     },
     "execution_count": 4,
     "metadata": {},
     "output_type": "execute_result"
    }
   ],
   "source": [
    "hapi_to_json(all_pages=ALL_PAGES)\n",
    "os.listdir(DATA_PATH)"
   ]
  },
  {
   "cell_type": "code",
   "execution_count": 5,
   "id": "0f380d4e",
   "metadata": {},
   "outputs": [
    {
     "name": "stdout",
     "output_type": "stream",
     "text": [
      "--------------------\n",
      "patients_actifs\n",
      "('entry', ['resource.managingOrganization']) {'reference': 'Organization/fba065dd-dc29-5f3e-a560-6628d207fa70', 'type': 'Organization', 'identifier': {'system': 'http://terminology.arkhn.org/8eac120c-ae19-4d62-9f1e-530b74f04c86', 'value': '140016957'}}\n",
      "--------------------\n",
      "activités_planifiees\n",
      "('entry', ['resource.status']) booked\n",
      "('entry', ['resource.description']) Remue Méninges\n",
      "('entry', ['resource.start']) 2017-06-15T15:00:00+02:00\n",
      "('entry', ['resource.end']) 2016-11-20T11:45:00+02:00\n",
      "--------------------\n",
      "soins_planifies\n",
      "('entry', ['resource.code']) {'coding': [{'code': 'BALAYAYGE GAZE IMPREGNEE'}], 'text': 'BALAYAYGE GAZE IMPREGNEE'}\n",
      "('entry', ['resource.subject']) {'reference': 'Patient/3de4a414-0586-5bf5-a5fb-842f97eb8b40', 'type': 'Patient', 'identifier': {'system': 'http://terminology.arkhn.org/c6b29d43-038a-496b-b354-196a71ad7d2d', 'value': '997'}}\n",
      "('entry', ['resource.occurrenceTiming']) {'repeat': {'boundsPeriod': {'start': '2021-07-07T00:00:00Z', 'end': '2021-07-07T00:00:00Z'}, 'duration': 5.0, 'durationUnit': 'min', 'frequency': 1, 'period': 1.0, 'periodUnit': 'd', 'dayOfWeek': ['tue', 'wed', 'thu', 'fri', 'sat', 'sun', 'mon'], 'timeOfDay': ['02:42:00']}}\n",
      "('entry', ['resource.performerType']) {'coding': [{'code': 'A.S.'}], 'text': 'A.S.'}\n",
      "--------------------\n",
      "vacs_hospit_sejours\n",
      "('entry', ['resource.status']) unknown\n",
      "('entry', ['resource.class']) {'system': 'http://www.nlm.nih.gov/research/umls', 'code': 'C1658399', 'display': 'Admission to nursing home'}\n",
      "('entry', ['resource.subject']) {'reference': 'Patient/18c1400f-f9f2-5895-a8fe-c19c9dc955c4', 'type': 'Patient', 'identifier': {'system': 'http://terminology.arkhn.org/c6b29d43-038a-496b-b354-196a71ad7d2d', 'value': '609'}}\n",
      "('entry', ['resource.period']) {'start': '2007-05-07T12:00:00+02:00', 'end': '2007-05-09T12:00:00+02:00'}\n",
      "('entry', [Coalesce('resource.serviceProvider', default=None)]) None\n",
      "('entry', [Coalesce('resource.priority', default=None)]) None\n",
      "--------------------\n",
      "hospitalisations\n",
      "('entry', ['resource.status']) unknown\n",
      "('entry', ['resource.subject']) {'identifier': {'system': 'http://terminology.arkhn.org/c6b29d43-038a-496b-b354-196a71ad7d2d', 'value': '15'}}\n",
      "('entry', ['resource.period']) {'start': '2005-07-13T12:00:00+02:00', 'end': '2005-07-15T12:00:00+02:00'}\n",
      "('entry', [Coalesce('resource.serviceProvider', default=None)]) {'reference': 'Organization/fba065dd-dc29-5f3e-a560-6628d207fa70', 'type': 'Organization', 'identifier': {'system': 'http://terminology.arkhn.org/8eac120c-ae19-4d62-9f1e-530b74f04c86', 'value': '140016957'}}\n",
      "--------------------\n",
      "sejours\n",
      "('entry', ['resource.status']) finished\n",
      "('entry', ['resource.subject']) {'reference': 'Patient/0e3ca4ba-89c7-5c87-a68e-cd6effa2b2ee', 'type': 'Patient', 'identifier': {'system': 'http://terminology.arkhn.org/c6b29d43-038a-496b-b354-196a71ad7d2d', 'value': '208'}}\n",
      "('entry', ['resource.period']) {'start': '2019-05-06T00:00:00Z'}\n",
      "('entry', [Coalesce('resource.serviceProvider', default=None)]) {'reference': 'Organization/fba065dd-dc29-5f3e-a560-6628d207fa70', 'type': 'Organization', 'identifier': {'system': 'http://terminology.arkhn.org/8eac120c-ae19-4d62-9f1e-530b74f04c86', 'value': '140016957'}}\n",
      "('entry', ['resource.location']) {'location': {'reference': 'Location/7bdaad7e-97a8-5aa3-9b27-dc1669394296', 'type': 'Location', 'identifier': {'system': 'http://terminology.arkhn.org/5ec51d57-05f4-44d5-aa6a-cbed71dcb652', 'value': '412,1'}}}\n",
      "--------------------\n",
      "sejours_actifs\n",
      "('entry', ['resource.status']) in-progress\n",
      "('entry', ['resource.subject']) {'reference': 'Patient/f0613a3f-5bf8-5f8b-a22d-65a21f7746e5', 'type': 'Patient', 'identifier': {'system': 'http://terminology.arkhn.org/c6b29d43-038a-496b-b354-196a71ad7d2d', 'value': '1027'}}\n",
      "('entry', ['resource.period']) {'start': '2019-03-25T00:00:00Z'}\n",
      "('entry', [Coalesce('resource.serviceProvider', default=None)]) {'reference': 'Organization/fba065dd-dc29-5f3e-a560-6628d207fa70', 'type': 'Organization', 'identifier': {'system': 'http://terminology.arkhn.org/8eac120c-ae19-4d62-9f1e-530b74f04c86', 'value': '140016957'}}\n",
      "('entry', ['resource.location']) {'location': {'reference': 'Location/2cafa160-21d9-562e-8fae-aa11ed35050e', 'type': 'Location', 'identifier': {'system': 'http://terminology.arkhn.org/5ec51d57-05f4-44d5-aa6a-cbed71dcb652', 'value': '302,1'}}}\n",
      "--------------------\n",
      "vacances\n",
      "('entry', ['resource.status']) unknown\n",
      "('entry', ['resource.subject']) {'reference': 'Patient/e5657178-86b1-57d9-8abd-0966ce9e40cb', 'type': 'Patient', 'identifier': {'system': 'http://terminology.arkhn.org/c6b29d43-038a-496b-b354-196a71ad7d2d', 'value': '646'}}\n",
      "('entry', ['resource.period']) {'start': '2018-07-13T10:14:00+02:00', 'end': '2018-09-24T12:20:00+02:00'}\n",
      "--------------------\n",
      "consultations_specialisees\n",
      "('entry', ['resource.status']) unknown\n",
      "('entry', [Coalesce('resource.type', default=None)]) {'text': 'CONSULT CHIR DR LEMAGUET PARC'}\n",
      "('entry', ['resource.subject']) {'reference': 'Patient/c491137d-f6fd-54d5-884d-a936d51822b4', 'type': 'Patient', 'identifier': {'system': 'http://terminology.arkhn.org/c6b29d43-038a-496b-b354-196a71ad7d2d', 'value': '1040'}}\n",
      "('entry', ['resource.period']) {'start': '2019-04-19T11:00:00+02:00'}\n",
      "('entry', ['resource.priority']) {'text': '1'}\n",
      "--------------------\n",
      "consultations_pedicure\n",
      "('entry', ['resource.status']) unknown\n",
      "('entry', ['resource.subject']) {'reference': 'Patient/04a4beb0-efda-53b0-a911-f737c59ecb3c', 'type': 'Patient', 'identifier': {'system': 'http://terminology.arkhn.org/c6b29d43-038a-496b-b354-196a71ad7d2d', 'value': '968'}}\n",
      "('entry', ['resource.period']) {'start': '2021-04-08T00:00:00Z', 'end': '2021-04-08T00:00:00Z'}\n"
     ]
    }
   ],
   "source": [
    "for name, specs in SPECS_TO_SAMPLE.items():\n",
    "    print(\"-\" * 20)\n",
    "    print(name)\n",
    "    for spec, n_flatten in specs:\n",
    "        data = json_to_var(name, all_pages=ALL_PAGES)\n",
    "        all_values = get_all_values(data=data, resource_type=name, spec=spec, n_flatten=n_flatten)\n",
    "        print(spec, np.random.choice(all_values))"
   ]
  },
  {
   "cell_type": "code",
   "execution_count": null,
   "id": "e05897a8",
   "metadata": {},
   "outputs": [],
   "source": []
  }
 ],
 "metadata": {
  "kernelspec": {
   "display_name": "Python 3 (ipykernel)",
   "language": "python",
   "name": "python3"
  },
  "language_info": {
   "codemirror_mode": {
    "name": "ipython",
    "version": 3
   },
   "file_extension": ".py",
   "mimetype": "text/x-python",
   "name": "python",
   "nbconvert_exporter": "python",
   "pygments_lexer": "ipython3",
   "version": "3.9.6"
  }
 },
 "nbformat": 4,
 "nbformat_minor": 5
}
