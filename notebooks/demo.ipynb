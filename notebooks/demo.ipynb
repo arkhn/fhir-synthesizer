{
 "cells": [
  {
   "cell_type": "code",
   "execution_count": 1,
   "id": "0c3ffe64",
   "metadata": {},
   "outputs": [],
   "source": [
    "%reload_ext autoreload\n",
    "%autoreload 2"
   ]
  },
  {
   "cell_type": "code",
   "execution_count": 2,
   "id": "01febd13",
   "metadata": {},
   "outputs": [],
   "source": [
    "import os\n",
    "from glom import glom, Coalesce, delete, assign\n",
    "from synthetic_data import create_fake_data, fetch_hapi, DATA_PATH\n",
    "import numpy as np\n",
    "import json"
   ]
  },
  {
   "cell_type": "code",
   "execution_count": 3,
   "id": "1b583563",
   "metadata": {},
   "outputs": [],
   "source": [
    "ALL_PAGES = True"
   ]
  },
  {
   "cell_type": "code",
   "execution_count": 7,
   "id": "054e0040",
   "metadata": {},
   "outputs": [
    {
     "data": {
      "text/plain": [
       "dict_keys(['ehpads', 'services', 'soins', 'animations', 'chambres', 'patients_actifs', 'activites_planifiees', 'soins_planifies', 'hospitalisations', 'sejours', 'vacances', 'consultations_specialisees', 'consultations_pedicure', 'practitioner'])"
      ]
     },
     "execution_count": 7,
     "metadata": {},
     "output_type": "execute_result"
    }
   ],
   "source": [
    "initial_data = fetch_hapi(all_pages=ALL_PAGES)\n",
    "initial_data.keys()"
   ]
  },
  {
   "cell_type": "code",
   "execution_count": 8,
   "id": "edc050dd",
   "metadata": {},
   "outputs": [
    {
     "name": "stdout",
     "output_type": "stream",
     "text": [
      "CPU times: user 1min 15s, sys: 87.5 ms, total: 1min 16s\n",
      "Wall time: 1min 15s\n"
     ]
    },
    {
     "data": {
      "text/plain": [
       "['fake_soins_planifies.json',\n",
       " 'fake_ehpads.json',\n",
       " 'fake_chambres.json',\n",
       " 'fake_sejours.json',\n",
       " 'fake_consultations_specialisees.json',\n",
       " 'fake_soins.json',\n",
       " 'fake_practitioner.json',\n",
       " 'fake_consultations_pedicure.json',\n",
       " 'fake_animations.json',\n",
       " 'fake_vacances.json',\n",
       " 'fake_hospitalisations.json',\n",
       " 'fake_patients_actifs.json',\n",
       " 'fake_activites_planifiees.json',\n",
       " 'fake_services.json']"
      ]
     },
     "execution_count": 8,
     "metadata": {},
     "output_type": "execute_result"
    }
   ],
   "source": [
    "%%time\n",
    "create_fake_data(initial_data=initial_data, id_suffix=\"-1\")\n",
    "os.listdir(DATA_PATH)"
   ]
  },
  {
   "cell_type": "code",
   "execution_count": null,
   "id": "aa029d34",
   "metadata": {},
   "outputs": [],
   "source": []
  }
 ],
 "metadata": {
  "kernelspec": {
   "display_name": "Python 3 (ipykernel)",
   "language": "python",
   "name": "python3"
  },
  "language_info": {
   "codemirror_mode": {
    "name": "ipython",
    "version": 3
   },
   "file_extension": ".py",
   "mimetype": "text/x-python",
   "name": "python",
   "nbconvert_exporter": "python",
   "pygments_lexer": "ipython3",
   "version": "3.9.6"
  }
 },
 "nbformat": 4,
 "nbformat_minor": 5
}
