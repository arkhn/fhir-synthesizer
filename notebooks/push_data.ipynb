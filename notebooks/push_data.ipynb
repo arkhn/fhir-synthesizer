{
 "cells": [
  {
   "cell_type": "code",
   "execution_count": 6,
   "id": "virgin-madison",
   "metadata": {},
   "outputs": [],
   "source": [
    "# Import Module\n",
    "import os\n",
    "import requests\n",
    "import json\n",
    "from requests.auth import HTTPBasicAuth"
   ]
  },
  {
   "cell_type": "code",
   "execution_count": 23,
   "id": "hindu-transsexual",
   "metadata": {},
   "outputs": [],
   "source": [
    "def push_bundle_hapi(file_path):\n",
    "    with open(file_path) as f:\n",
    "        print(file_path)\n",
    "        r = requests.post(\"https://cr-fake-data.arkhn.com/hapi/fhir\", data = f.read().encode(\"utf-8\"), headers={\"Content-Type\": \"application/json+fhir\"}, auth=HTTPBasicAuth('user', 'pwd'))\n",
    "        print(file_path)\n",
    "        print(r.text)\n",
    "        print()"
   ]
  },
  {
   "cell_type": "code",
   "execution_count": null,
   "id": "conscious-burning",
   "metadata": {},
   "outputs": [],
   "source": [
    "print()\n",
    "  \n",
    "files=['../data/ehpads.json',\n",
    "       '../data/services.json',\n",
    "       '../data/chambres.json',\n",
    "       '../data/patients_actifs.json',\n",
    "       '../data/sejours.json',\n",
    "       '../data/practitioner.json',\n",
    "       '../data/animations.json',\n",
    "       '../data/soins_planifies.json',\n",
    "       '../data/vacances.json',\n",
    "       '../data/soins.json',\n",
    "       '../data/hospitalisations.json',\n",
    "       '../data/activites_planifiees.json',\n",
    "       '../data/consultations_specialisees.json'\n",
    "      ]\n",
    "# iterate through all file\n",
    "for file in files:\n",
    "    # Check whether file is in text format or not\n",
    "    if file.endswith(\".json\"):\n",
    "        push_bundle_hapi(file)"
   ]
  },
  {
   "cell_type": "code",
   "execution_count": null,
   "id": "curious-grounds",
   "metadata": {},
   "outputs": [],
   "source": [
    "import os\n",
    "\n",
    "  \n",
    "# Change the directory\n",
    "os.chdir(\"../data\")\n",
    "\n",
    "# iterate through all file\n",
    "print(os.listdir())"
   ]
  },
  {
   "cell_type": "code",
   "execution_count": null,
   "id": "bigger-going",
   "metadata": {},
   "outputs": [],
   "source": []
  }
 ],
 "metadata": {
  "kernelspec": {
   "display_name": "Python 3 (ipykernel)",
   "language": "python",
   "name": "python3"
  },
  "language_info": {
   "codemirror_mode": {
    "name": "ipython",
    "version": 3
   },
   "file_extension": ".py",
   "mimetype": "text/x-python",
   "name": "python",
   "nbconvert_exporter": "python",
   "pygments_lexer": "ipython3",
   "version": "3.9.12"
  }
 },
 "nbformat": 4,
 "nbformat_minor": 5
}
